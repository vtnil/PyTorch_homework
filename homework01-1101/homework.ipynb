{
 "cells": [
  {
   "cell_type": "markdown",
   "metadata": {},
   "source": [
    "# 基于词向量的英汉翻译——“火炬上的深度学习\"下第一次作业\n",
    "\n",
    "在这个作业中，你需要半独立地完成一个英文到中文的单词翻译器\n",
    "\n",
    "本文件是集智AI学园http://campus.swarma.org 出品的“火炬上的深度学习”第VI课的配套源代码"
   ]
  },
  {
   "cell_type": "code",
   "execution_count": 14,
   "metadata": {},
   "outputs": [],
   "source": [
    "# 加载必要的程序包\n",
    "# PyTorch的程序包\n",
    "import torch\n",
    "from torch.autograd import Variable\n",
    "import torch.nn as nn\n",
    "import torch.nn.functional as F\n",
    "import torch.optim as optim\n",
    "\n",
    "# 数值运算和绘图的程序包\n",
    "import numpy as np\n",
    "import matplotlib.pyplot as plt\n",
    "import matplotlib\n",
    "\n",
    "\n",
    "# 加载机器学习的软件包，主要为了词向量的二维可视化\n",
    "from sklearn.decomposition import PCA\n",
    "\n",
    "#加载Word2Vec的软件包\n",
    "import gensim as gensim\n",
    "from gensim.models import Word2Vec\n",
    "from gensim.models.keyedvectors import KeyedVectors\n",
    "from gensim.models.word2vec import LineSentence\n",
    "\n",
    "#加载正则表达式处理的包\n",
    "import re\n",
    "\n",
    "#在Notebook界面能够直接显示图形\n",
    "%matplotlib inline"
   ]
  },
  {
   "cell_type": "markdown",
   "metadata": {},
   "source": [
    "## 第一步：加载词向量\n",
    "\n",
    "首先，让我们加载别人已经在大型语料库上训练好的词向量"
   ]
  },
  {
   "cell_type": "code",
   "execution_count": 2,
   "metadata": {},
   "outputs": [
    {
     "data": {
      "text/plain": [
       "1366130"
      ]
     },
     "execution_count": 2,
     "metadata": {},
     "output_type": "execute_result"
    }
   ],
   "source": [
    "# 加载中文词向量，下载地址为：链接：http://pan.baidu.com/s/1gePQAun 密码：kvtg\n",
    "# 该中文词向量库是由尹相志提供，训练语料来源为：微博、人民日报、上海热线、汽车之家等，包含1366130个词向量\n",
    "word_vectors = KeyedVectors.load_word2vec_format('vectors.bin', binary=True, unicode_errors='ignore')\n",
    "len(word_vectors.vocab)"
   ]
  },
  {
   "cell_type": "code",
   "execution_count": 3,
   "metadata": {},
   "outputs": [
    {
     "name": "stdout",
     "output_type": "stream",
     "text": [
      "400000\n"
     ]
    }
   ],
   "source": [
    "# 加载中文的词向量，下载地址为：http://nlp.stanford.edu/data/glove.6B.zip，解压后将glove.6B.100d.txt文件拷贝到与本notebook\n",
    "# 文件一致的文件夹洗面。\n",
    "f = open('glove.6B.100d.txt', 'r')\n",
    "i = 1\n",
    "\n",
    "# 将英文的词向量都存入如下的字典中\n",
    "word_vectors_en = {}\n",
    "with open('glove.6B.100d.txt') as f:\n",
    "    for line in f:\n",
    "        numbers = line.split()\n",
    "        word = numbers[0]\n",
    "        vectors = np.array([float(i) for i in numbers[1 : ]])\n",
    "        word_vectors_en[word] = vectors\n",
    "        i += 1\n",
    "print(len(word_vectors_en))"
   ]
  },
  {
   "cell_type": "markdown",
   "metadata": {},
   "source": [
    "## 第二步：可视化同一组意思词在两种不同语言的词向量中的相互位置关系"
   ]
  },
  {
   "cell_type": "code",
   "execution_count": 4,
   "metadata": {
    "collapsed": true
   },
   "outputs": [],
   "source": [
    "# 中文的一二三四五列表\n",
    "cn_list = {'一', '二', '三', '四', '五', '六', '七', '八', '九', '零'}\n",
    "# 阿拉伯数字的12345列表\n",
    "en_list = {'1', '2', '3', '4', '5', '6', '7', '8', '9', '0'}\n",
    "# 英文数字的列表\n",
    "en_list = {'one', 'two', 'three', 'four', 'five', 'six', 'seven', 'eight', 'nine', 'zero'}\n",
    "\n",
    "# 对应词向量都存入到列表中\n",
    "cn_vectors = []  #中文的词向量列表\n",
    "en_vectors = []  #英文的词向量列表\n",
    "for w in cn_list:\n",
    "    cn_vectors.append(word_vectors[w])\n",
    "for w in en_list:\n",
    "    en_vectors.append(word_vectors_en[w])\n",
    "\n",
    "# 将这些词向量统一转化为矩阵\n",
    "cn_vectors = np.array(cn_vectors)\n",
    "en_vectors = np.array(en_vectors)"
   ]
  },
  {
   "cell_type": "code",
   "execution_count": 7,
   "metadata": {},
   "outputs": [
    {
     "data": {
      "image/png": "[encoded data removed]",
      "text/plain": [
       "<matplotlib.figure.Figure at 0x7f0e7bf14828>"
      ]
     },
     "metadata": {},
     "output_type": "display_data"
    }
   ],
   "source": [
    "# 降维实现可视化\n",
    "X_reduced = PCA(n_components=2).fit_transform(cn_vectors)\n",
    "Y_reduced = PCA(n_components = 2).fit_transform(en_vectors)\n",
    "\n",
    "# 绘制所有单词向量的二维空间投影\n",
    "f, (ax1, ax2) = plt.subplots(1, 2, figsize = (10, 8))\n",
    "ax1.plot(X_reduced[:, 0], X_reduced[:, 1], 'o')\n",
    "ax2.plot(Y_reduced[:, 0], Y_reduced[:, 1], 'o')\n",
    "zhfont1 = matplotlib.font_manager.FontProperties(fname='/usr/share/fonts/truetype/arphic/uming.ttc', size=16)\n",
    "for i, w in enumerate(cn_list):\n",
    "    ax1.text(X_reduced[i, 0], X_reduced[i, 1], w, fontproperties = zhfont1, alpha = 1)\n",
    "for i, w in enumerate(en_list):\n",
    "    ax2.text(Y_reduced[i, 0], Y_reduced[i, 1], w, alpha = 1)"
   ]
  },
  {
   "cell_type": "markdown",
   "metadata": {},
   "source": [
    "### 结论：可以看出，中文的一、二、等数字彼此之间的关系与英文的数字彼此之间的关系很类似"
   ]
  },
  {
   "cell_type": "markdown",
   "metadata": {},
   "source": [
    "## 第三步：训练一个神经网络，输入一个英文单词的词向量，输出一个中文的词向量，并翻译为中文"
   ]
  },
  {
   "cell_type": "markdown",
   "metadata": {},
   "source": [
    "首先，读入一个已经建立好的词典（dictionary.txt）。本词典是老师调用百度翻译的API，自动将一篇英文小说中的词汇逐个翻译为中文而得来的\n",
    "\n",
    "我们一个个地载入词典，并查找对应的中文词向量，如果找得到，则放入original_words中，做为正式的训练集"
   ]
  },
  {
   "cell_type": "code",
   "execution_count": 9,
   "metadata": {},
   "outputs": [
    {
     "name": "stdout",
     "output_type": "stream",
     "text": [
      "4962\n"
     ]
    }
   ],
   "source": [
    "original_words = []\n",
    "with open('dictionary.txt', 'r') as f:\n",
    "    dataset = []\n",
    "    for line in f:\n",
    "        itm = line.split('\\t')\n",
    "        eng = itm[0]\n",
    "        chn = itm[1].strip()\n",
    "        if eng in word_vectors_en and chn in word_vectors:\n",
    "            data = word_vectors_en[eng]\n",
    "            target = word_vectors[chn]\n",
    "           # 将中英文词对做成数据集\n",
    "            dataset.append([data, target])\n",
    "            original_words.append([eng, chn])\n",
    "print(len(dataset)) # 共有4962个单词做为总的数据集合"
   ]
  },
  {
   "cell_type": "code",
   "execution_count": 10,
   "metadata": {
    "collapsed": true
   },
   "outputs": [],
   "source": [
    "# 建立训练集、测试集和校验集\n",
    "# 训练集用来训练神经网络，更改网络的参数；校验集用来判断网络模型是否过拟合：当校验集的损失数值超过训练集的时候，即为过拟合\n",
    "# 测试集用来检验模型的好坏\n",
    "indx = np.random.permutation(range(len(dataset)))\n",
    "dataset = [dataset[i] for i in indx]\n",
    "original_words = [original_words[i] for i in indx]\n",
    "train_size = 500\n",
    "train_data = dataset[train_size:]\n",
    "valid_data = dataset[train_size // 2 : train_size]\n",
    "test_data = dataset[: train_size // 2]\n",
    "test_words = original_words[: train_size // 2]\n"
   ]
  },
  {
   "cell_type": "code",
   "execution_count": 19,
   "metadata": {
    "scrolled": true
   },
   "outputs": [
    {
     "name": "stdout",
     "output_type": "stream",
     "text": [
      "0轮，训练Loss: 8.75, 校验Loss: 8.11\n",
      "1轮，训练Loss: 8.33, 校验Loss: 7.81\n",
      "2轮，训练Loss: 8.07, 校验Loss: 7.64\n",
      "3轮，训练Loss: 7.92, 校验Loss: 7.54\n",
      "4轮，训练Loss: 7.81, 校验Loss: 7.46\n",
      "5轮，训练Loss: 7.72, 校验Loss: 7.41\n",
      "6轮，训练Loss: 7.65, 校验Loss: 7.36\n",
      "7轮，训练Loss: 7.59, 校验Loss: 7.33\n",
      "8轮，训练Loss: 7.54, 校验Loss: 7.29\n",
      "9轮，训练Loss: 7.50, 校验Loss: 7.27\n",
      "10轮，训练Loss: 7.46, 校验Loss: 7.24\n",
      "11轮，训练Loss: 7.43, 校验Loss: 7.22\n",
      "12轮，训练Loss: 7.40, 校验Loss: 7.20\n",
      "13轮，训练Loss: 7.37, 校验Loss: 7.18\n",
      "14轮，训练Loss: 7.34, 校验Loss: 7.16\n",
      "15轮，训练Loss: 7.32, 校验Loss: 7.15\n",
      "16轮，训练Loss: 7.30, 校验Loss: 7.13\n",
      "17轮，训练Loss: 7.28, 校验Loss: 7.12\n",
      "18轮，训练Loss: 7.26, 校验Loss: 7.11\n",
      "19轮，训练Loss: 7.25, 校验Loss: 7.10\n",
      "20轮，训练Loss: 7.23, 校验Loss: 7.08\n",
      "21轮，训练Loss: 7.22, 校验Loss: 7.08\n",
      "22轮，训练Loss: 7.20, 校验Loss: 7.07\n",
      "23轮，训练Loss: 7.19, 校验Loss: 7.06\n",
      "24轮，训练Loss: 7.18, 校验Loss: 7.05\n",
      "25轮，训练Loss: 7.17, 校验Loss: 7.05\n",
      "26轮，训练Loss: 7.16, 校验Loss: 7.04\n",
      "27轮，训练Loss: 7.15, 校验Loss: 7.03\n",
      "28轮，训练Loss: 7.14, 校验Loss: 7.03\n",
      "29轮，训练Loss: 7.13, 校验Loss: 7.02\n",
      "30轮，训练Loss: 7.13, 校验Loss: 7.02\n",
      "31轮，训练Loss: 7.12, 校验Loss: 7.02\n",
      "32轮，训练Loss: 7.11, 校验Loss: 7.01\n",
      "33轮，训练Loss: 7.11, 校验Loss: 7.01\n",
      "34轮，训练Loss: 7.10, 校验Loss: 7.01\n",
      "35轮，训练Loss: 7.10, 校验Loss: 7.00\n",
      "36轮，训练Loss: 7.09, 校验Loss: 7.00\n",
      "37轮，训练Loss: 7.08, 校验Loss: 7.00\n",
      "38轮，训练Loss: 7.08, 校验Loss: 7.00\n",
      "39轮，训练Loss: 7.08, 校验Loss: 7.00\n",
      "40轮，训练Loss: 7.07, 校验Loss: 6.99\n",
      "41轮，训练Loss: 7.07, 校验Loss: 6.99\n",
      "42轮，训练Loss: 7.06, 校验Loss: 6.99\n",
      "43轮，训练Loss: 7.06, 校验Loss: 6.99\n",
      "44轮，训练Loss: 7.06, 校验Loss: 6.99\n",
      "45轮，训练Loss: 7.05, 校验Loss: 6.99\n",
      "46轮，训练Loss: 7.05, 校验Loss: 6.99\n",
      "47轮，训练Loss: 7.05, 校验Loss: 6.98\n",
      "48轮，训练Loss: 7.04, 校验Loss: 6.98\n",
      "49轮，训练Loss: 7.04, 校验Loss: 6.98\n",
      "50轮，训练Loss: 7.04, 校验Loss: 6.98\n",
      "51轮，训练Loss: 7.03, 校验Loss: 6.98\n",
      "52轮，训练Loss: 7.03, 校验Loss: 6.98\n",
      "53轮，训练Loss: 7.03, 校验Loss: 6.98\n",
      "54轮，训练Loss: 7.03, 校验Loss: 6.98\n",
      "55轮，训练Loss: 7.03, 校验Loss: 6.98\n",
      "56轮，训练Loss: 7.02, 校验Loss: 6.98\n",
      "57轮，训练Loss: 7.02, 校验Loss: 6.98\n",
      "58轮，训练Loss: 7.02, 校验Loss: 6.98\n",
      "59轮，训练Loss: 7.02, 校验Loss: 6.98\n",
      "60轮，训练Loss: 7.02, 校验Loss: 6.98\n",
      "61轮，训练Loss: 7.01, 校验Loss: 6.97\n",
      "62轮，训练Loss: 7.01, 校验Loss: 6.97\n",
      "63轮，训练Loss: 7.01, 校验Loss: 6.97\n",
      "64轮，训练Loss: 7.01, 校验Loss: 6.97\n",
      "65轮，训练Loss: 7.01, 校验Loss: 6.97\n",
      "66轮，训练Loss: 7.01, 校验Loss: 6.97\n",
      "67轮，训练Loss: 7.00, 校验Loss: 6.97\n",
      "68轮，训练Loss: 7.00, 校验Loss: 6.97\n",
      "69轮，训练Loss: 7.00, 校验Loss: 6.97\n",
      "70轮，训练Loss: 7.00, 校验Loss: 6.97\n",
      "71轮，训练Loss: 7.00, 校验Loss: 6.97\n",
      "72轮，训练Loss: 7.00, 校验Loss: 6.97\n",
      "73轮，训练Loss: 7.00, 校验Loss: 6.97\n",
      "74轮，训练Loss: 7.00, 校验Loss: 6.97\n",
      "75轮，训练Loss: 6.99, 校验Loss: 6.97\n",
      "76轮，训练Loss: 6.99, 校验Loss: 6.97\n",
      "77轮，训练Loss: 6.99, 校验Loss: 6.97\n",
      "78轮，训练Loss: 6.99, 校验Loss: 6.97\n",
      "79轮，训练Loss: 6.99, 校验Loss: 6.97\n",
      "80轮，训练Loss: 6.99, 校验Loss: 6.97\n",
      "81轮，训练Loss: 6.99, 校验Loss: 6.97\n",
      "82轮，训练Loss: 6.99, 校验Loss: 6.97\n",
      "83轮，训练Loss: 6.99, 校验Loss: 6.97\n",
      "84轮，训练Loss: 6.99, 校验Loss: 6.97\n",
      "85轮，训练Loss: 6.98, 校验Loss: 6.97\n",
      "86轮，训练Loss: 6.98, 校验Loss: 6.97\n",
      "87轮，训练Loss: 6.98, 校验Loss: 6.97\n",
      "88轮，训练Loss: 6.98, 校验Loss: 6.97\n",
      "89轮，训练Loss: 6.98, 校验Loss: 6.97\n",
      "90轮，训练Loss: 6.98, 校验Loss: 6.97\n",
      "91轮，训练Loss: 6.98, 校验Loss: 6.97\n",
      "92轮，训练Loss: 6.98, 校验Loss: 6.97\n",
      "93轮，训练Loss: 6.98, 校验Loss: 6.97\n",
      "94轮，训练Loss: 6.98, 校验Loss: 6.97\n",
      "95轮，训练Loss: 6.98, 校验Loss: 6.97\n",
      "96轮，训练Loss: 6.98, 校验Loss: 6.97\n",
      "97轮，训练Loss: 6.98, 校验Loss: 6.97\n",
      "98轮，训练Loss: 6.98, 校验Loss: 6.97\n",
      "99轮，训练Loss: 6.97, 校验Loss: 6.97\n"
     ]
    }
   ],
   "source": [
    "# 开始训练一个多层神经网络，将一个100维度的英文向量映射为200维度的中文词向量，隐含层节点为30\n",
    "\n",
    "input_size = 100\n",
    "output_size = 200\n",
    "hidden_size = 30\n",
    "\n",
    "use_cuda = torch.cuda.is_available()\n",
    "dtype = torch.cuda.FloatTensor if use_cuda else torch.FloatTensor\n",
    "itype = torch.cuda.LongTensor if use_cuda else torch.LongTensor\n",
    "\n",
    "\n",
    "# 新建一个神经网络，包含一个隐含层\n",
    "model = nn.Sequential(nn.Linear(input_size, hidden_size),\n",
    "                     nn.Tanh(),\n",
    "                     nn.Linear(hidden_size, output_size)\n",
    "                     )\n",
    "\n",
    "if use_cuda:\n",
    "    model.cuda()\n",
    "\n",
    "# 构造损失函数\n",
    "criterion = torch.nn.MSELoss()\n",
    "\n",
    "# 构造优化器\n",
    "optimizer = torch.optim.Adam(model.parameters(), lr = 0.0001)\n",
    "\n",
    "# 总的循环周期\n",
    "num_epoch = 100\n",
    "\n",
    "\n",
    "#开始训练500次，每次对所有的数据都做循环\n",
    "results = []\n",
    "for epoch in range(num_epoch):\n",
    "    train_loss = []\n",
    "    for data in train_data:\n",
    "       # 读入数据\n",
    "        x = Variable(torch.FloatTensor(data[0])).unsqueeze(0).type(dtype)\n",
    "        y = Variable(torch.FloatTensor(data[1])).unsqueeze(0).type(dtype)\n",
    "       # 模型预测\n",
    "        output = model(x)\n",
    "       \n",
    "       # 反向传播算法训练\n",
    "        optimizer.zero_grad()\n",
    "        loss = criterion(output, y)\n",
    "        train_loss.append(loss.cpu().data.numpy()[0] if use_cuda else loss.data.numpy()[0])\n",
    "        loss.backward()\n",
    "        optimizer.step()\n",
    "   # 在校验集上测试一下效果\n",
    "    valid_loss = []\n",
    "    for data in valid_data:\n",
    "        x = Variable(torch.FloatTensor(data[0])).unsqueeze(0).type(dtype)\n",
    "        y = Variable(torch.FloatTensor(data[1])).unsqueeze(0).type(dtype)\n",
    "        output = model(x)\n",
    "        loss = criterion(output, y)\n",
    "        valid_loss.append(loss.cpu().data.numpy()[0] if use_cuda else loss.data.numpy()[0])\n",
    "    results.append([np.mean(train_loss), np.mean(valid_loss)])\n",
    "    print('{}轮，训练Loss: {:.2f}, 校验Loss: {:.2f}'.format(epoch, np.mean(train_loss), np.mean(valid_loss)))\n"
   ]
  },
  {
   "cell_type": "code",
   "execution_count": 20,
   "metadata": {},
   "outputs": [
    {
     "data": {
      "text/plain": [
       "<matplotlib.legend.Legend at 0x7f0e70088748>"
      ]
     },
     "execution_count": 20,
     "metadata": {},
     "output_type": "execute_result"
    },
    {
     "data": {
      "image/png": "[encoded data removed]",
      "text/plain": [
       "<matplotlib.figure.Figure at 0x7f0e70d12d68>"
      ]
     },
     "metadata": {},
     "output_type": "display_data"
    }
   ],
   "source": [
    "# 绘制图形\n",
    "a = [i[0] for i in results]\n",
    "b = [i[1] for i in results]\n",
    "plt.plot(a, 'o', label = 'Training Loss')\n",
    "plt.plot(b, 's', label = 'Validation Loss')\n",
    "plt.xlabel('Epoch')\n",
    "plt.ylabel('Loss Function')\n",
    "plt.legend()"
   ]
  },
  {
   "cell_type": "code",
   "execution_count": 24,
   "metadata": {},
   "outputs": [
    {
     "name": "stdout",
     "output_type": "stream",
     "text": [
      "精确匹配率：0.11\n",
      "一字匹配率：0.18\n",
      "[['脏', '脏'], ['走', '跑到'], ['说', '说'], ['快乐', '我'], ['冰雹', '咆哮'], ['折旧', '成本'], ['进行曲', '怒吼'], ['干燥机', '胶皮'], ['猜测', '怀疑'], ['车', '拖车'], ['政府', '政府'], ['鳍', '形状'], ['斗争', '意志'], ['关注', '担忧'], ['呼', '俺'], ['服务员', '服务员'], ['尖叫', '大叫'], ['纳秒', '每秒'], ['离开', '离开'], ['邮递员', '她'], ['神', '上帝'], ['除了', '理解'], ['设计师', '服装'], ['嗤之以鼻', '反驳'], ['镜', '镜子'], ['五', '五'], ['检查', '检查'], ['战斗', '反抗'], ['闪烁', '明亮'], ['技师', '操作员'], ['流浪', '被咬'], ['表', '工作台'], ['发誓', '我'], ['看', '假装'], ['奶酪', '菠萝'], ['睡眠', '身体'], ['不足', '必要'], ['颜色', '材质'], ['也', '真的'], ['门', '小山'], ['铁板', '凝固'], ['音节', '短促'], ['采取', '去'], ['美', '美丽'], ['支付', '收钱'], ['第', '出版'], ['绘制', '攻击'], ['记者', '警察'], ['赫斯顿', '马丁'], ['紧抓', '脖子'], ['推翻', '瓦解'], ['附近', '不远处'], ['手指', '手指'], ['把', '理解'], ['账户', '账户'], ['使', '所以'], ['电影', '主角'], ['移', '缓慢'], ['维也纳', '法国'], ['抗议', '抗议'], ['水', '水'], ['遥遥', '憎恶'], ['杆', '螺丝'], ['东西', '所以'], ['容忍', '因为'], ['往往', '所以'], ['播音员', '大喊'], ['烘烤', '吐司'], ['幻想', '幻想'], ['夏威夷', '夏威夷'], ['敬礼', '高喊'], ['喉咙', '颈部'], ['微风', '缓缓的'], ['口袋', '挡板'], ['发生', '异常现象'], ['打火机', '较硬'], ['好奇', '好奇'], ['屋顶', '挡板'], ['地方', '可是'], ['畏缩', '生气'], ['银', '水晶'], ['超', '笨重'], ['勉强', '告诉他'], ['音乐', '音乐'], ['忽略', '指责'], ['攻击', '暴徒'], ['拨打', '接电话'], ['打赌', '肯定'], ['阳光', '阳光'], ['办公室', '公司办公室'], ['已经', '或者说'], ['固定', '变形'], ['加速器', '传感器'], ['宽', '斜向'], ['转', '每秒'], ['哎呀', '我'], ['旁边', '边上'], ['旋钮', '边沿'], ['大步', '跳跃'], ['虐待狂', '残忍'], ['说', '告知'], ['吹', '冒烟'], ['风', '翻滚'], ['分离', '隔间'], ['抽搐', '扭动'], ['他们', '所以'], ['昨天', '不对'], ['耳语', '大叫'], ['拥挤', '走动'], ['心', '恶魔'], ['彩色', '花纹'], ['之前', '等到'], ['轨道', '画线'], ['忙', '人来人往'], ['偏执', '千米'], ['背', '胳膊'], ['大象', '蜥蜴'], ['打扰', '害怕'], ['临时', '关闭'], ['洋葱', '菠萝'], ['配置', '物质'], ['发现', '头骨'], ['管理', '帮助'], ['歌', '唱'], ['给', '理解'], ['战略', '外部'], ['失败', '可能'], ['爱迪生', 'ge'], ['随行', '发给'], ['文明', '西方'], ['投标', '支持'], ['观众', '听'], ['动画', '创意'], ['强制', '无聊'], ['抚摸', '夹'], ['暗示', '可能'], ['垂头丧气', '激动'], ['轨道', '探测器'], ['惊', '诧异'], ['休息', '所以'], ['来势汹汹', '躲闪'], ['兄弟', '她'], ['毒', '毒药'], ['秘密', '黑客'], ['陷阱', '尖刺'], ['冷笑', '幸灾乐祸'], ['打', '记事本'], ['螺杆', '钩子'], ['坏', '可能'], ['戳', '打断'], ['分支', '分支'], ['块', '支撑架'], ['终结', '否定'], ['研究', '研究'], ['携带', '使用'], ['凯撒', '拿破仑'], ['承认', '拒绝'], ['是', '哎'], ['木', '石灰'], ['国际收支', '手把'], ['鬣蜥', '蜥蜴'], ['排除', '允许'], ['发现', '头骨'], ['激怒', '无辜'], ['能力', '能力'], ['板', '人员'], ['突然', '突然'], ['钉', '拧'], ['被盗', '偷来'], ['框架', '墙上'], ['通常', '或者'], ['期待', '等待'], ['今天', '我们'], ['发生', '也许'], ['胎盘', '躯体'], ['厄尼', '彼得'], ['不', '我'], ['地方', '小木屋'], ['都', '的'], ['侦探', '间谍'], ['快乐', '快乐'], ['外', '不远处'], ['地面', '地面'], ['肩', '后背'], ['马特', '他'], ['地区', '沿岸'], ['电话', '电脑'], ['地狱', '恶魔'], ['火焰', '火焰'], ['啦啦队', '舞者'], ['指法', '标记'], ['语言', '文本'], ['做', '所以'], ['漂亮', '真的'], ['门', '把手'], ['10', '10'], ['检查', '检查'], ['外国', '国家政府'], ['3', '2'], ['感觉', '气泡'], ['李', '皮特'], ['字', '意思'], ['回复', '问'], ['旅行', '目的地'], ['旁路', '复位'], ['店', '店铺'], ['这些', '身体'], ['巴特勒', '约翰'], ['电话', '道歉'], ['000', '50'], ['抽搐', '拉扯'], ['通常', '一般'], ['郁金香', '贝壳'], ['还原', '减少'], ['拉伸', '伸展'], ['必须', '脑壳'], ['恢复', '停止'], ['英里', '认为'], ['蓬勃发展', '震耳欲聋'], ['堆', '砖头'], ['笑', '耳朵'], ['停止', '停止'], ['黑暗', '半透明'], ['烂', '有时候'], ['肥', '木屑'], ['抓', '躲开'], ['集', '校准'], ['欣然', '舒服'], ['颤抖', '颤抖'], ['骑兵', '警察'], ['构建', '实现'], ['顶', '不锈钢'], ['撕裂', '压住'], ['角', '边沿'], ['医生', '医生'], ['大', '啊'], ['暴跌', '滑落'], ['提供', '储物柜'], ['假', '愚蠢'], ['士兵', '警察'], ['忠实', '美好'], ['自然', '人类'], ['定期', '停止'], ['景观', '建筑'], ['额外', '包'], ['密集', '致密'], ['1991', '终结'], ['时刻', '一瞬间'], ['丛林', '沙土'], ['面板', '材料']]\n"
     ]
    }
   ],
   "source": [
    "# 在测试集上验证准确度\n",
    "# 检验标准有两个：一个是直接用预测的词和标准答案做全词匹配；另一个是做单字的匹配\n",
    "exact_same = 0  #全词匹配数量\n",
    "one_same = 0 #单字匹配数量\n",
    "results = []\n",
    "for i, data in enumerate(test_data):\n",
    "    x = Variable(torch.FloatTensor(data[0])).unsqueeze(0).type(dtype)\n",
    "    # 给出模型的输出\n",
    "    output = model(x)\n",
    "    output = output.squeeze().data.numpy() if not use_cuda else output.squeeze().cpu().data.numpy()\n",
    "    # 从中文词向量中找到与输出向量最相似的向量\n",
    "    most_similar = word_vectors.wv.similar_by_vector(output, 1)\n",
    "    # 将标准答案中的词与最相似的向量所对应的词打印出来\n",
    "    results.append([original_words[i][1], most_similar[0][0]])\n",
    "   \n",
    "    # 全词匹配\n",
    "    if original_words[i][1] == most_similar[0][0]:\n",
    "        exact_same += 1\n",
    "    # 某一个字匹配\n",
    "    if list(set(list(original_words[i][1])) & set(list(most_similar[0][0]))) != []:\n",
    "        one_same += 1\n",
    "   \n",
    "print(\"精确匹配率：{:.2f}\".format(1.0 * exact_same / len(test_data)))\n",
    "print('一字匹配率：{:.2f}'.format(1.0 * one_same / len(test_data)))\n",
    "print(results)"
   ]
  },
  {
   "cell_type": "code",
   "execution_count": null,
   "metadata": {
    "collapsed": true
   },
   "outputs": [],
   "source": []
  }
 ],
 "metadata": {
  "kernelspec": {
   "display_name": "Python 3",
   "language": "python",
   "name": "python3"
  },
  "language_info": {
   "codemirror_mode": {
    "name": "ipython",
    "version": 3
   },
   "file_extension": ".py",
   "mimetype": "text/x-python",
   "name": "python",
   "nbconvert_exporter": "python",
   "pygments_lexer": "ipython3",
   "version": "3.6.2"
  }
 },
 "nbformat": 4,
 "nbformat_minor": 2
}
