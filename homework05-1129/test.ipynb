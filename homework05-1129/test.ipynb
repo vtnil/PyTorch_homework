{
 "cells": [
  {
   "cell_type": "markdown",
   "metadata": {},
   "source": [
    "# 第五次作业「使用DQN玩儿星球大战游戏」"
   ]
  },
  {
   "cell_type": "markdown",
   "metadata": {},
   "source": [
    "游戏部分借鉴了 「yueyangming」 https://github.com/yueyangming/PyTorch_homework/tree/master/homework05-1129 的代码"
   ]
  },
  {
   "cell_type": "markdown",
   "metadata": {},
   "source": [
    "## 准备游戏"
   ]
  },
  {
   "cell_type": "markdown",
   "metadata": {},
   "source": [
    "游戏部分代码在 [yueyangming](https://github.com/yueyangming/PyTorch_homework/tree/master/homework05-1129) 代码的基础上做了修改：\n",
    "\n",
    "* 增加了速度参数，统一了屏幕宽高参数\n",
    "* 修改了每一帧返回的数据结构"
   ]
  },
  {
   "cell_type": "code",
   "execution_count": 11,
   "metadata": {
    "collapsed": true
   },
   "outputs": [],
   "source": [
    "# import the pygame module\n",
    "import pygame\n",
    "\n",
    "# import random for random numbers!\n",
    "import random\n",
    "\n",
    "# import pygame.locals for easier access to key coordinates\n",
    "from pygame.locals import *\n",
    "\n",
    "class Player(pygame.sprite.Sprite):\n",
    "    def __init__(self, width, height, speed=2):\n",
    "        super(Player, self).__init__()\n",
    "        self.image = pygame.image.load('assets/jet.png').convert()\n",
    "        self.image.set_colorkey((255, 255, 255), RLEACCEL)\n",
    "        self.rect = self.image.get_rect()\n",
    "        self.speed = speed\n",
    "        self.width = width\n",
    "        self.height = height\n",
    "\n",
    "    def update(self, pressed_keys):\n",
    "        if pressed_keys[0]:  # Up\n",
    "            self.rect.move_ip(0, -self.speed)\n",
    "        if pressed_keys[1]:  # Down\n",
    "            self.rect.move_ip(0, self.speed)\n",
    "        if pressed_keys[2]:  # Left\n",
    "            self.rect.move_ip(-self.speed, 0)\n",
    "        if pressed_keys[3]:  # Right\n",
    "            self.rect.move_ip(self.speed, 0)\n",
    "\n",
    "        # Keep player on the screen\n",
    "        if self.rect.left < 0:\n",
    "            self.rect.left = 0\n",
    "        elif self.rect.right > self.width:\n",
    "            self.rect.right = self.width\n",
    "        if self.rect.top <= 0:\n",
    "            self.rect.top = 0\n",
    "        elif self.rect.bottom >= self.height:\n",
    "            self.rect.bottom = self.height\n",
    "\n",
    "class Enemy(pygame.sprite.Sprite):\n",
    "    def __init__(self, width, height, speed_min, speed_max):\n",
    "        super(Enemy, self).__init__()\n",
    "        self.image = pygame.image.load('assets/missile.png').convert()\n",
    "        self.image.set_colorkey((255, 255, 255), RLEACCEL)\n",
    "        self.rect = self.image.get_rect(\n",
    "            center=(random.randint(width+20, width+100), random.randint(0, height)))\n",
    "        self.speed = random.randint(round(speed_min * 100), round(speed_max * 100)) / 100\n",
    "\n",
    "    def update(self):\n",
    "        self.rect.move_ip(-self.speed, 0)\n",
    "        if self.rect.right < 0:\n",
    "            self.kill()\n",
    "\n",
    "\n",
    "class Cloud(pygame.sprite.Sprite):\n",
    "    def __init__(self, width, height, speed=2):\n",
    "        super(Cloud, self).__init__()\n",
    "        self.image = pygame.image.load('assets/cloud.png').convert()\n",
    "        self.image.set_colorkey((0, 0, 0), RLEACCEL)\n",
    "        self.rect = self.image.get_rect(center=(\n",
    "            random.randint(width+20, width+100), random.randint(0, height))\n",
    "        )\n",
    "        self.speed = speed\n",
    "\n",
    "    def update(self):\n",
    "        self.rect.move_ip(-self.speed, 0)\n",
    "        if self.rect.right < 0:\n",
    "            self.kill()\n",
    "\n",
    "class Game(object):\n",
    "    def __init__(self, width = 800, height = 600, player_speed=2, cloud_speed=2, enemy_min_speed=1.0, enemy_max_speed=3.0):\n",
    "        # initialize pygame\n",
    "        pygame.init()\n",
    "        self.width = width\n",
    "        self.height = height\n",
    "        self.cloud_speed = cloud_speed\n",
    "        self.enemy_min_speed = enemy_min_speed\n",
    "        self.enemy_max_speed = enemy_max_speed\n",
    "        self.player_speed = player_speed\n",
    "\n",
    "        # create the screen object\n",
    "        # here we pass it a size of 800x600\n",
    "        self.screen = pygame.display.set_mode((width, height))\n",
    "\n",
    "        # create our 'player', right now he's just a rectangle\n",
    "        self.player = Player(width, height, player_speed)\n",
    "\n",
    "        self.background = pygame.Surface(self.screen.get_size())\n",
    "        self.background.fill((135, 206, 250))\n",
    "\n",
    "        self.enemies = pygame.sprite.Group()\n",
    "        self.clouds = pygame.sprite.Group()\n",
    "        self.all_sprites = pygame.sprite.Group()\n",
    "        self.all_sprites.add(self.player)\n",
    "        self.running = True\n",
    "        self.framecount = 0\n",
    "\n",
    "    def get_frame(self, Key_press, QuitFlag = False):\n",
    "        \n",
    "        if self.running:\n",
    "            self.framecount += 1\n",
    "\n",
    "            if random.random() < 0.13:\n",
    "                new_enemy = Enemy(self.width, self.height, self.enemy_min_speed, self.enemy_max_speed)\n",
    "                self.enemies.add(new_enemy)\n",
    "                self.all_sprites.add(new_enemy)\n",
    "            \n",
    "            self.screen.blit(self.background, (0, 0))\n",
    "            if QuitFlag == True:\n",
    "                self.running = False\n",
    "            self.player.update(Key_press)\n",
    "            self.enemies.update()\n",
    "            self.clouds.update()\n",
    "            for entity in self.all_sprites:\n",
    "                self.screen.blit(entity.image, entity.rect)\n",
    "                \n",
    "            reward = 0.01\n",
    "            terminal = False\n",
    "\n",
    "            # 撞到子弹\n",
    "            if pygame.sprite.spritecollideany(self.player, self.enemies):\n",
    "                reward = -1\n",
    "                terminal = True\n",
    "                # self.player.kill()\n",
    "                # 重新开始\n",
    "                for entity in self.all_sprites:\n",
    "                    entity.kill()\n",
    "                self.__init__(self.width, self.height, self.player_speed, self.cloud_speed, self.enemy_min_speed, self.enemy_max_speed)\n",
    "            \n",
    "            image_data = pygame.surfarray.array3d(self.screen)\n",
    "            \n",
    "            return image_data, reward, terminal\n"
   ]
  },
  {
   "cell_type": "markdown",
   "metadata": {},
   "source": [
    "## 测试游戏"
   ]
  },
  {
   "cell_type": "markdown",
   "metadata": {},
   "source": [
    "初始化游戏"
   ]
  },
  {
   "cell_type": "code",
   "execution_count": 12,
   "metadata": {
    "collapsed": true
   },
   "outputs": [],
   "source": [
    "SCREEN_WIDTH = 240\n",
    "SCREEN_HEIGHT = 240\n",
    "\n",
    "# __init__(self, width = 800, height = 600, player_speed=2, cloud_speed=2, enemy_min_speed=1.0, enemy_max_speed=3.0):\n",
    "game = Game(width = SCREEN_WIDTH, height = SCREEN_HEIGHT, player_speed=8, cloud_speed=5, \n",
    "            enemy_min_speed=5.0, enemy_max_speed=10.0)"
   ]
  },
  {
   "cell_type": "markdown",
   "metadata": {},
   "source": [
    "#### 封装游戏运行环境"
   ]
  },
  {
   "cell_type": "code",
   "execution_count": 13,
   "metadata": {
    "collapsed": true
   },
   "outputs": [],
   "source": [
    "import matplotlib.pyplot as plt\n",
    "from IPython.display import display, clear_output\n",
    "import numpy as np\n",
    "\n",
    "IMAGE_WIDTH = 80\n",
    "IMAGE_HEIGHT = 80\n",
    "\n",
    "def show_play(play, step=-1):\n",
    "    \n",
    "    fig = plt.figure()\n",
    "    axe = fig.add_subplot(111)\n",
    "    dat = np.zeros((IMAGE_HEIGHT, IMAGE_WIDTH))\n",
    "    img = axe.imshow(dat)\n",
    "    \n",
    "    action = [False, False, False, False]\n",
    "    stop = False\n",
    "\n",
    "    i = 0\n",
    "    while True:       \n",
    "        if step > 0 and i == step:\n",
    "            break\n",
    "        if stop:\n",
    "            break\n",
    "            \n",
    "        clear_output(wait = True)\n",
    "            \n",
    "        image, reward, game_over = game.get_frame(action, QuitFlag = False)\n",
    "        # action = [False, True, False, False]  # [UP, Down, Left, Right]\n",
    "        action, stop = play(i, action, image, reward, game_over)\n",
    "\n",
    "        image = np.transpose(image, (1, 0, 2))\n",
    "        img.set_data(image)\n",
    "        img.autoscale()\n",
    "        display(fig)\n",
    "        i+=1\n"
   ]
  },
  {
   "cell_type": "markdown",
   "metadata": {},
   "source": [
    "## 准备神经网络"
   ]
  },
  {
   "cell_type": "code",
   "execution_count": 14,
   "metadata": {
    "collapsed": true
   },
   "outputs": [],
   "source": [
    "from __future__ import print_function\n",
    "\n",
    "import torch\n",
    "from torch.autograd import Variable\n",
    "import torch.nn as nn\n",
    "import torch.nn.functional as F\n",
    "import cv2 #需要安装OpenCV的包\n",
    "\n",
    "import random\n",
    "import numpy as np\n",
    "from collections import deque"
   ]
  },
  {
   "cell_type": "markdown",
   "metadata": {},
   "source": [
    "创建一个多层CNN网络，接收多帧画面，输出为每个可能动作对应的Q函数值"
   ]
  },
  {
   "cell_type": "code",
   "execution_count": 15,
   "metadata": {
    "collapsed": true
   },
   "outputs": [],
   "source": [
    "class Net(nn.Module):\n",
    "    def __init__(self, in_dim, n_class):\n",
    "        super(Net, self).__init__()\n",
    "        \n",
    "        self.conv = nn.Sequential(\n",
    "            nn.Conv2d(in_dim, 32, 9, stride=4, padding=4),   # 80x80 -> 20x20\n",
    "            nn.ReLU(True),\n",
    "            nn.MaxPool2d(2, 2),                              # 20x20 -> 10x10\n",
    "            nn.Conv2d(32, 64, 5, stride=2, padding=2),       # 10x10 -> 5x5\n",
    "            nn.ReLU(True),\n",
    "            nn.MaxPool2d(2, 2, padding = 1),                 # 5x5 -> 3x3\n",
    "            nn.Conv2d(64, 64, 3, stride=1, padding = 1)\n",
    "        )\n",
    "\n",
    "        self.fc = nn.Sequential(\n",
    "            # 64x5x5\n",
    "            nn.Linear(576, 256),\n",
    "            nn.Linear(256, n_class)\n",
    "        )\n",
    "\n",
    "    def forward(self, x):\n",
    "        out = self.conv(x)\n",
    "        out = out.view(out.size(0), -1)\n",
    "#         print(out.size())\n",
    "        out = self.fc(out)\n",
    "        return out"
   ]
  },
  {
   "cell_type": "markdown",
   "metadata": {},
   "source": [
    "将分类转为游戏操作指令"
   ]
  },
  {
   "cell_type": "code",
   "execution_count": 16,
   "metadata": {
    "collapsed": true
   },
   "outputs": [],
   "source": [
    "import math\n",
    "def class2action(number, n_class=4):\n",
    "    action = []\n",
    "    mv = n_class - 1\n",
    "    while mv >= 0:\n",
    "        action.append((number >> mv) & 0x01 == 1)\n",
    "        mv-=1\n",
    "    return action\n",
    "\n",
    "## test\n",
    "# class2action(2)\n",
    "# class2action(15)"
   ]
  },
  {
   "cell_type": "markdown",
   "metadata": {},
   "source": [
    "将RGB图像转为灰度图"
   ]
  },
  {
   "cell_type": "code",
   "execution_count": 17,
   "metadata": {
    "collapsed": true
   },
   "outputs": [],
   "source": [
    "def rgb2gray(image, width, height):\n",
    "    image = cv2.cvtColor(cv2.resize(image, (width, height)), cv2.COLOR_BGR2GRAY)\n",
    "    _, image = cv2.threshold(image,1,255,cv2.THRESH_BINARY)\n",
    "    return image/1.0"
   ]
  },
  {
   "cell_type": "markdown",
   "metadata": {
    "collapsed": true
   },
   "source": [
    "### 游戏训练得分"
   ]
  },
  {
   "cell_type": "code",
   "execution_count": 22,
   "metadata": {},
   "outputs": [
    {
     "data": {
      "image/png": "[encoded data removed]",
      "text/plain": [
       "<matplotlib.figure.Figure at 0x7fa12d8eee48>"
      ]
     },
     "metadata": {},
     "output_type": "display_data"
    }
   ],
   "source": [
    "f = open('exp-20171215-153356/train_log.txt', 'r')\n",
    "\n",
    "line = f.read().strip().split('\\n')\n",
    "values = []\n",
    "for ln in line:\n",
    "    segs = ln.split('/')\n",
    "    values.append(float(segs[-1].split(' ')[-1]))\n",
    "    \n",
    "plt.figure()\n",
    "plt.plot(np.arange(len(values)), values)\n",
    "plt.xlabel('K Frames')\n",
    "plt.ylabel('Average Score')\n",
    "plt.show()"
   ]
  },
  {
   "cell_type": "markdown",
   "metadata": {},
   "source": [
    "## 测试神经网络玩家"
   ]
  },
  {
   "cell_type": "code",
   "execution_count": 25,
   "metadata": {
    "collapsed": true
   },
   "outputs": [],
   "source": [
    "use_cuda = torch.cuda.is_available()\n",
    "dtype = torch.cuda.FloatTensor if use_cuda else torch.FloatTensor\n",
    "itype = torch.cuda.LongTensor if use_cuda else torch.LongTensor\n",
    "\n",
    "MEMORY = 4   # 参照的帧数\n",
    "ACTION_N = 16 # 有效输出动作的个数\n",
    "\n",
    "player = Net(MEMORY, ACTION_N)\n",
    "player.load_state_dict(torch.load('exp-20171215-153356/star-parms-6710000.pkl'))\n",
    "\n",
    "if use_cuda:\n",
    "    player.cuda()\n",
    "\n",
    "## 对游戏状态的记忆\n",
    "np_st = 0\n",
    "## 游戏次数\n",
    "np_life = 3\n",
    "## 得分\n",
    "np_score = 0\n",
    "np_total_score = []\n",
    "\n",
    "    \n",
    "# action, stop = play(i, action, image, reward, game_over)\n",
    "def net_player(i, action, image, reward, is_over):\n",
    "    global player, np_st, np_life, np_score, np_total_score\n",
    "    \n",
    "    np_score += reward\n",
    "    \n",
    "    ## 统计命数和得分\n",
    "    if is_over:\n",
    "        np_life -=1\n",
    "        np_total_score.append(np_score)\n",
    "        np_score = 0        \n",
    "    \n",
    "    ## 游戏结束\n",
    "    if np_life == 0:\n",
    "        print('\\n'.join('第{}轮得分：{:.2f}'.format(i+1, np_total_score[i]) for i in range(len(np_total_score))));\n",
    "        print('总得分：{:.2f}'.format(np.sum(np_total_score)))\n",
    "        return [], True\n",
    "    \n",
    "    \n",
    "    ## 输入图像\n",
    "    image = rgb2gray(image, IMAGE_WIDTH, IMAGE_HEIGHT)\n",
    "    if i==0:\n",
    "        np_st = np.stack((image,image,image,image), axis=0)\n",
    "    else:\n",
    "        image = image.reshape(1, image.shape[0], image.shape[1])\n",
    "        np_st = np.append(image, np_st[:3, :, :], axis=0)\n",
    "        \n",
    "    input = Variable(torch.FloatTensor(np_st).type(dtype)).unsqueeze(0)\n",
    "    q = player(input)\n",
    "    maxv, maxi = q.data.max(1)\n",
    "    action = class2action(maxi[0])\n",
    "        \n",
    "    return action, False"
   ]
  },
  {
   "cell_type": "code",
   "execution_count": 29,
   "metadata": {},
   "outputs": [
    {
     "name": "stdout",
     "output_type": "stream",
     "text": [
      "第1轮得分：1.75\n",
      "第2轮得分：4.91\n",
      "第3轮得分：6.53\n",
      "总得分：13.19\n"
     ]
    },
    {
     "data": {
      "image/png": "[encoded data removed]",
      "text/plain": [
       "<matplotlib.figure.Figure at 0x7fa12d880390>"
      ]
     },
     "metadata": {},
     "output_type": "display_data"
    }
   ],
   "source": [
    "## 对游戏状态的记忆\n",
    "np_st = 0\n",
    "## 游戏次数\n",
    "np_life = 3\n",
    "## 得分\n",
    "np_score = 0\n",
    "np_total_score = []\n",
    "\n",
    "# 运行游戏\n",
    "show_play(net_player)"
   ]
  },
  {
   "cell_type": "code",
   "execution_count": null,
   "metadata": {
    "collapsed": true
   },
   "outputs": [],
   "source": []
  }
 ],
 "metadata": {
  "kernelspec": {
   "display_name": "Python 3",
   "language": "python",
   "name": "python3"
  },
  "language_info": {
   "codemirror_mode": {
    "name": "ipython",
    "version": 3
   },
   "file_extension": ".py",
   "mimetype": "text/x-python",
   "name": "python",
   "nbconvert_exporter": "python",
   "pygments_lexer": "ipython3",
   "version": "3.6.2"
  }
 },
 "nbformat": 4,
 "nbformat_minor": 2
}
